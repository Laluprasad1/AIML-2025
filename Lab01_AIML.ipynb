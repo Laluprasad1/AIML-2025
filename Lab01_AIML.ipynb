{
  "nbformat": 4,
  "nbformat_minor": 0,
  "metadata": {
    "colab": {
      "provenance": [],
      "authorship_tag": "ABX9TyN7rU9o6dkagCJ/Yy+w/ztR",
      "include_colab_link": true
    },
    "kernelspec": {
      "name": "python3",
      "display_name": "Python 3"
    },
    "language_info": {
      "name": "python"
    }
  },
  "cells": [
    {
      "cell_type": "markdown",
      "metadata": {
        "id": "view-in-github",
        "colab_type": "text"
      },
      "source": [
        "<a href=\"https://colab.research.google.com/github/Laluprasad1/AIML-2025/blob/main/Lab01_AIML.ipynb\" target=\"_parent\"><img src=\"https://colab.research.google.com/assets/colab-badge.svg\" alt=\"Open In Colab\"/></a>"
      ]
    },
    {
      "cell_type": "markdown",
      "source": [
        "# **Lab01- Implement basic data structures of Numpy, Pandas, Matplotlib and Access Data from sources**"
      ],
      "metadata": {
        "id": "zAp2q7_1r0Sl"
      }
    },
    {
      "cell_type": "markdown",
      "source": [
        "# **Part 01: Lab Task is implement the following data structures using Numpy and Pandas.**"
      ],
      "metadata": {
        "id": "7njerXEgr7us"
      }
    },
    {
      "cell_type": "code",
      "source": [
        "import numpy as np\n",
        "l1=[1,2,3,4,5]\n",
        "arr1 = np.array(l1)\n",
        "arr1"
      ],
      "metadata": {
        "colab": {
          "base_uri": "https://localhost:8080/"
        },
        "id": "Yn7twDcir4Tl",
        "outputId": "c3bed2fa-91d2-4e0f-935f-08365832e5f5"
      },
      "execution_count": 13,
      "outputs": [
        {
          "output_type": "execute_result",
          "data": {
            "text/plain": [
              "array([1, 2, 3, 4, 5])"
            ]
          },
          "metadata": {},
          "execution_count": 13
        }
      ]
    },
    {
      "cell_type": "code",
      "source": [
        "#type of list\n",
        "type(l1)"
      ],
      "metadata": {
        "colab": {
          "base_uri": "https://localhost:8080/"
        },
        "id": "LkS9-SnesqsS",
        "outputId": "3ce78bac-1e4a-4083-8dc5-047781fc895e"
      },
      "execution_count": 8,
      "outputs": [
        {
          "output_type": "execute_result",
          "data": {
            "text/plain": [
              "list"
            ]
          },
          "metadata": {},
          "execution_count": 8
        }
      ]
    },
    {
      "cell_type": "code",
      "source": [
        "#type of array\n",
        "type(arr1)"
      ],
      "metadata": {
        "colab": {
          "base_uri": "https://localhost:8080/"
        },
        "id": "J-1cot3mtWxQ",
        "outputId": "fe1fcd51-a9ee-42a8-c8cf-53e77384ac51"
      },
      "execution_count": 9,
      "outputs": [
        {
          "output_type": "execute_result",
          "data": {
            "text/plain": [
              "numpy.ndarray"
            ]
          },
          "metadata": {},
          "execution_count": 9
        }
      ]
    },
    {
      "cell_type": "markdown",
      "source": [
        "Perform Mathematical Operations on these datasets - Multiplication, Division, Poweroff"
      ],
      "metadata": {
        "id": "UU8wSJBVttqC"
      }
    },
    {
      "cell_type": "code",
      "source": [
        "l2=[5,4,3,2,1]\n",
        "arr2=np.array(l2)\n",
        "arr2"
      ],
      "metadata": {
        "colab": {
          "base_uri": "https://localhost:8080/"
        },
        "id": "iJLSwOPet0V_",
        "outputId": "54683d99-aa9e-4b63-cff6-6f89b9700ca1"
      },
      "execution_count": 15,
      "outputs": [
        {
          "output_type": "execute_result",
          "data": {
            "text/plain": [
              "array([5, 4, 3, 2, 1])"
            ]
          },
          "metadata": {},
          "execution_count": 15
        }
      ]
    },
    {
      "cell_type": "code",
      "source": [
        "print(\"Addition of arr1 and arr2: \",arr1+arr2)\n",
        "print(\"Subtraction of arr1 and arr2: \",arr1-arr2)\n",
        "print(\"Multiplication of arr2 and arr1: \",arr1*arr2)\n",
        "print(\"Division of arr2 and arr1: \",arr2/arr1)\n",
        "print(\"arr2 raised to the power of arr1: \",arr2**arr1)\n",
        "print(f\" {arr2} raised to the power of {arr1}: {arr2**arr1}\")"
      ],
      "metadata": {
        "colab": {
          "base_uri": "https://localhost:8080/"
        },
        "id": "TBx7ZY_IuchL",
        "outputId": "aca143c3-967f-481b-9420-8531a960078d"
      },
      "execution_count": 18,
      "outputs": [
        {
          "output_type": "stream",
          "name": "stdout",
          "text": [
            "Addition of arr1 and arr2:  [6 6 6 6 6]\n",
            "Subtraction of arr1 and arr2:  [-4 -2  0  2  4]\n",
            "Multiplication of arr2 and arr1:  [5 8 9 8 5]\n",
            "Division of arr2 and arr1:  [5.  2.  1.  0.5 0.2]\n",
            "arr2 raised to the power of arr1:  [ 5 16 27 16  1]\n",
            " [5 4 3 2 1] raised to the power of [1 2 3 4 5]: [ 5 16 27 16  1]\n"
          ]
        }
      ]
    },
    {
      "cell_type": "code",
      "source": [
        "# sine function\n",
        "print(\"Sine of array1: \",np.sin(arr1))\n",
        "print(\"Sine of array2: \",np.sin(arr2))\n",
        "#cos function\n",
        "print(\"Cosine of array1: \",np.cos(arr1))\n",
        "print(\"Cosine of array2: \",np.sin(arr2))\n",
        "# logarithm\n",
        "print(\"Natural logarithm: \",np.log(arr1))\n",
        "print(\"Base-10 logarithm: \",np.log10(arr1))\n",
        "print(\"Base-2 logarithm: \",np.log2(arr1))\n",
        "# Exponential\n",
        "print(\"Exponential: \",np.exp(arr1))"
      ],
      "metadata": {
        "colab": {
          "base_uri": "https://localhost:8080/"
        },
        "id": "EXHMIqAswZLE",
        "outputId": "c101daf5-5272-474f-8b00-924b938328cb"
      },
      "execution_count": 22,
      "outputs": [
        {
          "output_type": "stream",
          "name": "stdout",
          "text": [
            "Sine of array1:  [ 0.84147098  0.90929743  0.14112001 -0.7568025  -0.95892427]\n",
            "Sine of array2:  [-0.95892427 -0.7568025   0.14112001  0.90929743  0.84147098]\n",
            "Cosine of array1:  [ 0.54030231 -0.41614684 -0.9899925  -0.65364362  0.28366219]\n",
            "Cosine of array2:  [-0.95892427 -0.7568025   0.14112001  0.90929743  0.84147098]\n",
            "Natural logarithm:  [0.         0.69314718 1.09861229 1.38629436 1.60943791]\n",
            "Base-10 logarithm:  [0.         0.30103    0.47712125 0.60205999 0.69897   ]\n",
            "Base-2 logarithm:  [0.         1.         1.5849625  2.         2.32192809]\n",
            "Exponential:  [  2.71828183   7.3890561   20.08553692  54.59815003 148.4131591 ]\n"
          ]
        }
      ]
    },
    {
      "cell_type": "code",
      "source": [],
      "metadata": {
        "id": "LXbDYNoFwx5b"
      },
      "execution_count": null,
      "outputs": []
    }
  ]
}